{
  "cells": [
    {
      "cell_type": "markdown",
      "metadata": {
        "id": "stx_mMjoIt_Q"
      },
      "source": [
        "# Question 2\n",
        "In this notebook we will train a model to generate captions for images in COCO dataset. Many ideas used in this notebook derive from [this paper](http://ieeexplore.ieee.org/stamp/stamp.jsp?arnumber=7505636)."
      ]
    },
    {
      "cell_type": "code",
      "source": [
        "from google.colab import drive\n",
        "drive.mount('/content/drive')"
      ],
      "metadata": {
        "colab": {
          "base_uri": "https://localhost:8080/"
        },
        "id": "wWinVeNZIwlC",
        "outputId": "47d15fcb-f2ef-48be-bec7-dd23037f4428"
      },
      "execution_count": 1,
      "outputs": [
        {
          "output_type": "stream",
          "name": "stdout",
          "text": [
            "Mounted at /content/drive\n"
          ]
        }
      ]
    },
    {
      "cell_type": "code",
      "source": [
        "# NOTE: YOU MUST CHANGE THIS DIRECTORY RELATIVELY TO YOUR OWN PREFERENCE\n",
        "%cd /content/drive/MyDrive/Colab\\ Notebooks/Deep \\Learning/Hw4/Q2"
      ],
      "metadata": {
        "colab": {
          "base_uri": "https://localhost:8080/"
        },
        "id": "ySaKCTmgJtJe",
        "outputId": "4c42e2b6-13cd-42e8-ccc3-e39fb806d680"
      },
      "execution_count": 2,
      "outputs": [
        {
          "output_type": "stream",
          "name": "stdout",
          "text": [
            "/content/drive/MyDrive/Colab Notebooks/Deep Learning/Hw4/Q2\n"
          ]
        }
      ]
    },
    {
      "cell_type": "markdown",
      "source": [
        "## Packages"
      ],
      "metadata": {
        "id": "UVkSnDromDZ5"
      }
    },
    {
      "cell_type": "code",
      "execution_count": 3,
      "metadata": {
        "colab": {
          "base_uri": "https://localhost:8080/"
        },
        "id": "LSTaMJoZIt_V",
        "outputId": "ac5c286f-512d-4e85-a5bf-c18a9e443afa"
      },
      "outputs": [
        {
          "output_type": "stream",
          "name": "stdout",
          "text": [
            "Looking in indexes: https://pypi.org/simple, https://us-python.pkg.dev/colab-wheels/public/simple/\n",
            "Requirement already satisfied: pycocotools in /usr/local/lib/python3.8/dist-packages (2.0.6)\n",
            "Requirement already satisfied: numpy in /usr/local/lib/python3.8/dist-packages (from pycocotools) (1.21.6)\n",
            "Requirement already satisfied: matplotlib>=2.1.0 in /usr/local/lib/python3.8/dist-packages (from pycocotools) (3.2.2)\n",
            "Requirement already satisfied: pyparsing!=2.0.4,!=2.1.2,!=2.1.6,>=2.0.1 in /usr/local/lib/python3.8/dist-packages (from matplotlib>=2.1.0->pycocotools) (3.0.9)\n",
            "Requirement already satisfied: cycler>=0.10 in /usr/local/lib/python3.8/dist-packages (from matplotlib>=2.1.0->pycocotools) (0.11.0)\n",
            "Requirement already satisfied: kiwisolver>=1.0.1 in /usr/local/lib/python3.8/dist-packages (from matplotlib>=2.1.0->pycocotools) (1.4.4)\n",
            "Requirement already satisfied: python-dateutil>=2.1 in /usr/local/lib/python3.8/dist-packages (from matplotlib>=2.1.0->pycocotools) (2.8.2)\n",
            "Requirement already satisfied: six>=1.5 in /usr/local/lib/python3.8/dist-packages (from python-dateutil>=2.1->matplotlib>=2.1.0->pycocotools) (1.15.0)\n"
          ]
        },
        {
          "output_type": "stream",
          "name": "stderr",
          "text": [
            "[nltk_data] Downloading package punkt to /root/nltk_data...\n",
            "[nltk_data]   Unzipping tokenizers/punkt.zip.\n"
          ]
        }
      ],
      "source": [
        "!pip install pycocotools\n",
        "\n",
        "import math\n",
        "from data_loader import get_loader\n",
        "from pycocotools.coco import COCO\n",
        "from torchvision import transforms\n",
        "from tqdm.notebook import tqdm\n",
        "import torch.nn as nn\n",
        "import torch\n",
        "import torch.utils.data as data\n",
        "import os\n",
        "import numpy as np\n",
        "import matplotlib.pyplot as plt\n",
        "\n",
        "%load_ext autoreload\n",
        "%autoreload 2"
      ]
    },
    {
      "cell_type": "markdown",
      "source": [
        "## Build Encoder and Decoder"
      ],
      "metadata": {
        "id": "fTTTkcuMizLL"
      }
    },
    {
      "cell_type": "code",
      "source": [
        "import torch\n",
        "import torch.nn as nn\n",
        "import torchvision.models as models\n",
        "\n",
        "class EncoderCNN(nn.Module):\n",
        "    def __init__(self, embed_size):\n",
        "        super(EncoderCNN, self).__init__()\n",
        "        resnet = models.resnet50(weights='IMAGENET1K_V1')\n",
        "        # Only fine-tune the last layer\n",
        "        for param in resnet.parameters():\n",
        "            param.requires_grad_(False)\n",
        "\n",
        "        modules = list(resnet.children())[:-1]\n",
        "        self.resnet = nn.Sequential(*modules)\n",
        "        self.embed = nn.Linear(resnet.fc.in_features, embed_size)\n",
        "\n",
        "    def forward(self, images):\n",
        "        features = self.resnet(images)\n",
        "        features = features.view(features.size(0), -1)\n",
        "        features = self.embed(features)\n",
        "        return features\n",
        "\n",
        "\n",
        "class DecoderRNN(nn.Module):\n",
        "    def __init__(self, embed_size, hidden_size, vocab_size, num_layers=1):\n",
        "        super(DecoderRNN, self).__init__()\n",
        "\n",
        "        self.hidden_dim = hidden_size\n",
        "        self.embed = nn.Embedding(vocab_size, embed_size)\n",
        "        self.lstm = nn.LSTM(embed_size, hidden_size, num_layers, batch_first=True)\n",
        "        self.linear = nn.Linear(hidden_size, vocab_size)\n",
        "        self.hidden = (torch.zeros(1, 1, hidden_size), torch.zeros(1, 1, hidden_size))\n",
        "\n",
        "    def forward(self, features, captions):\n",
        "        cap_embedding = self.embed(\n",
        "            captions[:, :-1]\n",
        "        embeddings = torch.cat((features.unsqueeze(dim=1), cap_embedding), dim=1)\n",
        "\n",
        "        lstm_out, self.hidden = self.lstm(embeddings) \n",
        "        outputs = self.linear(lstm_out)  \n",
        "\n",
        "        return outputs\n",
        "\n",
        "    def sample(self, inputs, states=None, max_len=20):\n",
        "        res = []\n",
        "\n",
        "        for i in range(max_len):\n",
        "            lstm_out, states = self.lstm(inputs, states) \n",
        "            outputs = self.linear(lstm_out.squeeze(dim=1))  \n",
        "            _, predicted_idx = outputs.max(dim=1) \n",
        "            res.append(predicted_idx.item())\n",
        "            if predicted_idx == 1:\n",
        "                break\n",
        "            inputs = self.embed(predicted_idx) \n",
        "            inputs = inputs.unsqueeze(1)  \n",
        "\n",
        "        return res\n"
      ],
      "metadata": {
        "id": "3qk7KqT1iwWE"
      },
      "execution_count": 4,
      "outputs": []
    },
    {
      "cell_type": "markdown",
      "metadata": {
        "id": "g4cxFg09It_T"
      },
      "source": [
        "## Download COCO Dataset"
      ]
    },
    {
      "cell_type": "code",
      "source": [
        "%cd /content\n",
        "!mkdir cocoapi\n",
        "!mkdir cocoapi/images"
      ],
      "metadata": {
        "colab": {
          "base_uri": "https://localhost:8080/"
        },
        "id": "DxMfS8RwIoEX",
        "outputId": "fbcac360-d36d-4ad5-b7a8-76b0ee5419d4"
      },
      "execution_count": 6,
      "outputs": [
        {
          "output_type": "stream",
          "name": "stdout",
          "text": [
            "/content\n"
          ]
        }
      ]
    },
    {
      "cell_type": "code",
      "source": [
        "!wget -c http://images.cocodataset.org/zips/train2014.zip \n",
        "!wget -c http://images.cocodataset.org/zips/val2014.zip\n",
        "!wget -c http://images.cocodataset.org/zips/test2014.zip"
      ],
      "metadata": {
        "id": "xalAzGn6JPrg",
        "colab": {
          "base_uri": "https://localhost:8080/"
        },
        "outputId": "e2f3691a-e6ad-48aa-d514-0263ac40c3dc"
      },
      "execution_count": 7,
      "outputs": [
        {
          "output_type": "stream",
          "name": "stdout",
          "text": [
            "--2023-02-05 17:07:00--  http://images.cocodataset.org/zips/train2014.zip\n",
            "Resolving images.cocodataset.org (images.cocodataset.org)... 54.231.164.209, 52.217.109.100, 3.5.19.134, ...\n",
            "Connecting to images.cocodataset.org (images.cocodataset.org)|54.231.164.209|:80... connected.\n",
            "HTTP request sent, awaiting response... 200 OK\n",
            "Length: 13510573713 (13G) [application/zip]\n",
            "Saving to: ‘train2014.zip’\n",
            "\n",
            "train2014.zip       100%[===================>]  12.58G  15.0MB/s    in 11m 34s \n",
            "\n",
            "2023-02-05 17:18:34 (18.6 MB/s) - ‘train2014.zip’ saved [13510573713/13510573713]\n",
            "\n",
            "--2023-02-05 17:18:34--  http://images.cocodataset.org/zips/val2014.zip\n",
            "Resolving images.cocodataset.org (images.cocodataset.org)... 52.217.83.60, 52.217.168.177, 54.231.167.105, ...\n",
            "Connecting to images.cocodataset.org (images.cocodataset.org)|52.217.83.60|:80... connected.\n",
            "HTTP request sent, awaiting response... 200 OK\n",
            "Length: 6645013297 (6.2G) [application/zip]\n",
            "Saving to: ‘val2014.zip’\n",
            "\n",
            "val2014.zip         100%[===================>]   6.19G  9.30MB/s    in 6m 45s  \n",
            "\n",
            "2023-02-05 17:25:19 (15.7 MB/s) - ‘val2014.zip’ saved [6645013297/6645013297]\n",
            "\n",
            "--2023-02-05 17:25:19--  http://images.cocodataset.org/zips/test2014.zip\n",
            "Resolving images.cocodataset.org (images.cocodataset.org)... 52.216.40.161, 54.231.50.75, 3.5.8.187, ...\n",
            "Connecting to images.cocodataset.org (images.cocodataset.org)|52.216.40.161|:80... connected.\n",
            "HTTP request sent, awaiting response... 200 OK\n",
            "Length: 6660437059 (6.2G) [application/zip]\n",
            "Saving to: ‘test2014.zip’\n",
            "\n",
            "test2014.zip        100%[===================>]   6.20G  55.5MB/s    in 5m 27s  \n",
            "\n",
            "2023-02-05 17:30:46 (19.4 MB/s) - ‘test2014.zip’ saved [6660437059/6660437059]\n",
            "\n"
          ]
        }
      ]
    },
    {
      "cell_type": "code",
      "source": [
        "!unzip -o -q train2014.zip -d cocoapi/images\n",
        "!unzip -o -q val2014.zip -d cocoapi/images\n",
        "!unzip -o -q test2014.zip -d cocoapi/images"
      ],
      "metadata": {
        "id": "emT-kh7IMH66"
      },
      "execution_count": 8,
      "outputs": []
    },
    {
      "cell_type": "code",
      "source": [
        "!wget -c http://images.cocodataset.org/annotations/image_info_test2014.zip\n",
        "!wget -c http://images.cocodataset.org/annotations/annotations_trainval2014.zip\n",
        "!unzip -o image_info_test2014.zip -d cocoapi\n",
        "!unzip -o annotations_trainval2014.zip -d cocoapi"
      ],
      "metadata": {
        "colab": {
          "base_uri": "https://localhost:8080/"
        },
        "id": "ycklDcikQaAQ",
        "outputId": "861ab322-8d85-4965-f520-6e197fe4a392"
      },
      "execution_count": 9,
      "outputs": [
        {
          "output_type": "stream",
          "name": "stdout",
          "text": [
            "--2023-02-05 17:34:33--  http://images.cocodataset.org/annotations/image_info_test2014.zip\n",
            "Resolving images.cocodataset.org (images.cocodataset.org)... 54.231.160.17, 54.231.171.33, 52.217.48.244, ...\n",
            "Connecting to images.cocodataset.org (images.cocodataset.org)|54.231.160.17|:80... connected.\n",
            "HTTP request sent, awaiting response... 200 OK\n",
            "Length: 763464 (746K) [application/zip]\n",
            "Saving to: ‘image_info_test2014.zip’\n",
            "\n",
            "image_info_test2014 100%[===================>] 745.57K  --.-KB/s    in 0.1s    \n",
            "\n",
            "2023-02-05 17:34:34 (5.08 MB/s) - ‘image_info_test2014.zip’ saved [763464/763464]\n",
            "\n",
            "--2023-02-05 17:34:34--  http://images.cocodataset.org/annotations/annotations_trainval2014.zip\n",
            "Resolving images.cocodataset.org (images.cocodataset.org)... 54.231.160.17, 54.231.171.33, 52.217.48.244, ...\n",
            "Connecting to images.cocodataset.org (images.cocodataset.org)|54.231.160.17|:80... connected.\n",
            "HTTP request sent, awaiting response... 200 OK\n",
            "Length: 252872794 (241M) [application/zip]\n",
            "Saving to: ‘annotations_trainval2014.zip’\n",
            "\n",
            "annotations_trainva 100%[===================>] 241.16M  81.5MB/s    in 3.0s    \n",
            "\n",
            "2023-02-05 17:34:37 (81.5 MB/s) - ‘annotations_trainval2014.zip’ saved [252872794/252872794]\n",
            "\n",
            "Archive:  image_info_test2014.zip\n",
            "  inflating: cocoapi/annotations/image_info_test2014.json  \n",
            "Archive:  annotations_trainval2014.zip\n",
            "  inflating: cocoapi/annotations/instances_train2014.json  \n",
            "  inflating: cocoapi/annotations/instances_val2014.json  \n",
            "  inflating: cocoapi/annotations/person_keypoints_train2014.json  \n",
            "  inflating: cocoapi/annotations/person_keypoints_val2014.json  \n",
            "  inflating: cocoapi/annotations/captions_train2014.json  \n",
            "  inflating: cocoapi/annotations/captions_val2014.json  \n"
          ]
        }
      ]
    },
    {
      "cell_type": "markdown",
      "source": [
        "## Setup Training"
      ],
      "metadata": {
        "id": "OacekYHGlIJe"
      }
    },
    {
      "cell_type": "markdown",
      "source": [
        "We compose the transformation in a way that suits ResNet. This pre-trained model takes 224x224 images as input, and we normalize the inputs with the relative constants brought below."
      ],
      "metadata": {
        "id": "d-YyKDUvbhS0"
      }
    },
    {
      "cell_type": "code",
      "execution_count": 10,
      "metadata": {
        "id": "0yvWs3WiIt_X"
      },
      "outputs": [],
      "source": [
        "transform = dict()\n",
        "transform['train'] = transforms.Compose(\n",
        "    [   transforms.Resize(256),\n",
        "        transforms.RandomCrop(224),\n",
        "        transforms.ToTensor(),\n",
        "        transforms.Normalize(\n",
        "            (0.485, 0.456, 0.406),  \n",
        "            (0.229, 0.224, 0.225),\n",
        "        ),\n",
        "    ]\n",
        ")\n",
        "\n",
        "transform['test'] = transforms.Compose(\n",
        "    [\n",
        "        transforms.Resize(256),  \n",
        "        transforms.RandomCrop(224), \n",
        "        transforms.ToTensor(),  \n",
        "        transforms.Normalize(\n",
        "            (0.485, 0.456, 0.406),  \n",
        "            (0.229, 0.224, 0.225),\n",
        "        ),\n",
        "    ]\n",
        ")"
      ]
    },
    {
      "cell_type": "code",
      "execution_count": 11,
      "metadata": {
        "id": "raGZBfXKIt_Y",
        "outputId": "78357bd6-6358-4fc6-d57f-82053f1daaab",
        "colab": {
          "base_uri": "https://localhost:8080/"
        }
      },
      "outputs": [
        {
          "output_type": "stream",
          "name": "stdout",
          "text": [
            "loading annotations into memory...\n",
            "Done (t=1.04s)\n",
            "creating index...\n",
            "index created!\n",
            "[0/414113] Tokenizing captions...\n",
            "[100000/414113] Tokenizing captions...\n",
            "[200000/414113] Tokenizing captions...\n",
            "[300000/414113] Tokenizing captions...\n",
            "[400000/414113] Tokenizing captions...\n",
            "loading annotations into memory...\n",
            "Done (t=0.56s)\n",
            "creating index...\n",
            "index created!\n",
            "Obtaining caption lengths...\n"
          ]
        },
        {
          "output_type": "stream",
          "name": "stderr",
          "text": [
            "100%|██████████| 414113/414113 [00:42<00:00, 9643.36it/s] \n"
          ]
        }
      ],
      "source": [
        "# Build data loader\n",
        "cocoapi_loc = r\"\"\n",
        "\n",
        "data_loader = get_loader(\n",
        "    transform=transform['train'],\n",
        "    mode=\"train\",\n",
        "    batch_size=256,\n",
        "    vocab_threshold=5,\n",
        "    vocab_from_file=False,\n",
        "    cocoapi_loc=cocoapi_loc,\n",
        ")"
      ]
    },
    {
      "cell_type": "code",
      "execution_count": 12,
      "metadata": {
        "id": "HJQ6RYkDIt_Y",
        "colab": {
          "base_uri": "https://localhost:8080/",
          "height": 85,
          "referenced_widgets": [
            "98d7fa4bd23a4025b5adabf9d5d5569c",
            "4414b93b83cd470f9ef88da962c36ea0",
            "d47e41782b3f454e9a74c6fa4b171c5c",
            "a7138c9db9af42fcb119ac97cbb72fa9",
            "ac02bcc2c26b4239b07e6166c1b17671",
            "7bba7fb7ca924a0cbec102fcc0b526c7",
            "734ace901b5f4c38a108bcffd717adb5",
            "6ea1de4da43947f99e3d0952dad77716",
            "a498c0c564b743e9b9e00ea309c9a916",
            "b616aa18734847baa788955a0302355f",
            "c1c31cc9075147e190a237cdfd7ce1de"
          ]
        },
        "outputId": "5de2e3db-0fc2-4ae6-ee1f-09086c2b9115"
      },
      "outputs": [
        {
          "output_type": "stream",
          "name": "stderr",
          "text": [
            "Downloading: \"https://download.pytorch.org/models/resnet50-0676ba61.pth\" to /root/.cache/torch/hub/checkpoints/resnet50-0676ba61.pth\n"
          ]
        },
        {
          "output_type": "display_data",
          "data": {
            "text/plain": [
              "  0%|          | 0.00/97.8M [00:00<?, ?B/s]"
            ],
            "application/vnd.jupyter.widget-view+json": {
              "version_major": 2,
              "version_minor": 0,
              "model_id": "98d7fa4bd23a4025b5adabf9d5d5569c"
            }
          },
          "metadata": {}
        },
        {
          "output_type": "stream",
          "name": "stdout",
          "text": [
            "Running on cuda\n"
          ]
        }
      ],
      "source": [
        "# BUILD THE MODEL\n",
        "vocab_size = len(data_loader.dataset.vocab)\n",
        "encoder = EncoderCNN(embed_size=128)\n",
        "decoder = DecoderRNN(embed_size=128,\n",
        "                     hidden_size=256,\n",
        "                     vocab_size=vocab_size)\n",
        "\n",
        "device = torch.device(\"cuda\" if torch.cuda.is_available() else \"cpu\")\n",
        "encoder.to(device)\n",
        "decoder.to(device)\n",
        "print(f'Running on {device}')"
      ]
    },
    {
      "cell_type": "code",
      "source": [
        "params = list(decoder.parameters()) + list(encoder.embed.parameters())\n",
        "optimizer = torch.optim.Adam(params, lr=1e-3)\n",
        "criterion = (nn.CrossEntropyLoss().cuda() if torch.cuda.is_available() else nn.CrossEntropyLoss())"
      ],
      "metadata": {
        "id": "V_pL89Fxe2U4"
      },
      "execution_count": 13,
      "outputs": []
    },
    {
      "cell_type": "markdown",
      "metadata": {
        "id": "1cC6xxUjIt_Z"
      },
      "source": [
        "# Training the model\n"
      ]
    },
    {
      "cell_type": "code",
      "source": [
        "hw_dir = \"/content/drive/MyDrive/Colab Notebooks/Deep Learning/Hw4/Q2\"\n",
        "model_dir = os.path.join(hw_dir, \"/models\")\n",
        "os.makedirs(model_dir, exist_ok=True)"
      ],
      "metadata": {
        "id": "qFgfgZGFWlbZ"
      },
      "execution_count": 14,
      "outputs": []
    },
    {
      "cell_type": "code",
      "execution_count": null,
      "metadata": {
        "scrolled": true,
        "id": "pl5SuT2jIt_Z"
      },
      "outputs": [],
      "source": [
        "num_epochs = 3                \n",
        "save_every = 100              \n",
        "print_every = 5               \n",
        "total_step = math.ceil(len(data_loader.dataset) / data_loader.batch_sampler.batch_size)\n",
        "\n",
        "for epoch in range(1, num_epochs + 1):\n",
        "    for step in range(1, total_step + 1):\n",
        "\n",
        "        indices = data_loader.dataset.get_train_indices()\n",
        "        new_sampler = data.sampler.SubsetRandomSampler(indices=indices)\n",
        "        data_loader.batch_sampler.sampler = new_sampler\n",
        "\n",
        "        images, captions = next(iter(data_loader))\n",
        "        images = images.to(device)\n",
        "        captions = captions.to(device)\n",
        "\n",
        "        decoder.zero_grad()\n",
        "        encoder.zero_grad()\n",
        "\n",
        "        # FORWARD PASS\n",
        "        features = encoder(images)\n",
        "        outputs = decoder(features, captions)\n",
        "\n",
        "        loss = criterion(outputs.view(-1, vocab_size), captions.view(-1))\n",
        "\n",
        "        # BACKWARD PASS\n",
        "        loss.backward()\n",
        "\n",
        "        # UPDATE THE PARAMETERES\n",
        "        optimizer.step()\n",
        "\n",
        "        if step % print_every == 0:\n",
        "            print(f\"[{step}/{total_step}] training_loss: {loss.item():2.4f}, perplexity: {np.exp(loss.item()):4.2f}\")\n",
        "        if step % save_every == 0:\n",
        "            PATH_DECODER = hw_dir + f\"/models/decoder-{step}.pkl\"\n",
        "            PATH_ENCODER = hw_dir + f\"/models/encoder-{step}.pkl\"\n",
        "            torch.save(\n",
        "                decoder.state_dict(), PATH_DECODER\n",
        "            )\n",
        "            torch.save(\n",
        "                encoder.state_dict(), PATH_ENCODER\n",
        "            )"
      ]
    },
    {
      "cell_type": "code",
      "source": [
        "torch.save(decoder.state_dict(), os.path.join(model_dir, 'decoder-final.pkl'))\n",
        "torch.save(encoder.state_dict(), os.path.join(model_dir, 'encoder-final.pkl'))"
      ],
      "metadata": {
        "id": "KHR9mUDTd-S7"
      },
      "execution_count": null,
      "outputs": []
    },
    {
      "cell_type": "markdown",
      "source": [
        "# Testing the model"
      ],
      "metadata": {
        "id": "26JZW4jNNiZH"
      }
    },
    {
      "cell_type": "code",
      "execution_count": 17,
      "metadata": {
        "id": "Q47NuJiWE0UD",
        "outputId": "3d4037e9-7a7f-4d5c-8151-e9a461d02306",
        "colab": {
          "base_uri": "https://localhost:8080/"
        }
      },
      "outputs": [
        {
          "output_type": "stream",
          "name": "stdout",
          "text": [
            "Vocabulary successfully loaded from vocab.pkl file!\n"
          ]
        }
      ],
      "source": [
        "# Setup the dataloader\n",
        "cocoapi_dir = r\"\"\n",
        "data_loader = get_loader(transform=transform['test'],\n",
        "                         mode=\"test\",\n",
        "                         cocoapi_loc=cocoapi_dir)"
      ]
    },
    {
      "cell_type": "code",
      "execution_count": 59,
      "metadata": {
        "id": "yGIoudwcE0UF",
        "outputId": "f5702761-dd32-4e53-d64a-18d0ceea0dbc",
        "colab": {
          "base_uri": "https://localhost:8080/"
        }
      },
      "outputs": [
        {
          "output_type": "stream",
          "name": "stdout",
          "text": [
            "Running on cuda\n"
          ]
        }
      ],
      "source": [
        "embed_size = 256\n",
        "hidden_size = 512\n",
        "vocab_size = len(data_loader.dataset.vocab)\n",
        "\n",
        "# Determine the paths\n",
        "PATH = \"/content/drive/MyDrive/Colab Notebooks/Deep Learning/Hw4/Q2/models/\"\n",
        "encoder_file = PATH + \"encoder-1080.pkl\"\n",
        "decoder_file = PATH + \"decoder-1080.pkl\"\n",
        "\n",
        "\n",
        "encoder = EncoderCNN(embed_size)\n",
        "decoder = DecoderRNN(embed_size, hidden_size, vocab_size)\n",
        "\n",
        "# Test mode\n",
        "encoder.eval()\n",
        "decoder.eval()\n",
        "\n",
        "encoder.load_state_dict(torch.load(encoder_file))\n",
        "decoder.load_state_dict(torch.load(decoder_file))\n",
        "\n",
        "# Move models to GPU if CUDA is available.\n",
        "device = torch.device(\"cuda\" if torch.cuda.is_available() else \"cpu\")\n",
        "encoder.to(device)\n",
        "decoder.to(device)\n",
        "print(f\"Running on {device}\")"
      ]
    },
    {
      "cell_type": "code",
      "source": [
        "def clean_sentence(output, idx2word):\n",
        "    sentence = \"\"\n",
        "    for i in output:\n",
        "        word = idx2word[i]\n",
        "        if i == 0:\n",
        "            continue\n",
        "        if i == 1:\n",
        "            break\n",
        "        if i == 18:\n",
        "            sentence = sentence + word\n",
        "        else:\n",
        "            sentence = sentence + \" \" + word\n",
        "    return sentence"
      ],
      "metadata": {
        "id": "54TkLIpXkAtM"
      },
      "execution_count": 5,
      "outputs": []
    },
    {
      "cell_type": "code",
      "source": [
        "def predict_caption(image, idx2word=data_loader.dataset.vocab.idx2word):\n",
        "    image = transform['test'](image).unsqueeze(0)\n",
        "    image = image.to(device)\n",
        "    features = encoder(image).unsqueeze(1)\n",
        "    output = decoder.sample(features)\n",
        "\n",
        "    sentence = clean_sentence(output, idx2word)\n",
        "    ax = plt.axes()\n",
        "    ax.xaxis.set_major_locator(plt.NullLocator())\n",
        "    ax.yaxis.set_major_locator(plt.NullLocator())\n",
        "\n",
        "    plt.imshow(np.squeeze(orig_image))\n",
        "    plt.xlabel(sentence, fontsize=12)\n",
        "    plt.show()"
      ],
      "metadata": {
        "id": "B6aVyF89MD0c"
      },
      "execution_count": 77,
      "outputs": []
    },
    {
      "cell_type": "code",
      "source": [
        "orig_image, _ = next(iter(data_loader))\n",
        "predict_caption(image=orig_image)"
      ],
      "metadata": {
        "colab": {
          "base_uri": "https://localhost:8080/",
          "height": 265
        },
        "id": "BxTJPfgbzI7i",
        "outputId": "6267a189-3d50-4a4e-b46a-e25a26bf0e67"
      },
      "execution_count": 58,
      "outputs": [
        {
          "output_type": "display_data",
          "data": {
            "text/plain": [
              "<Figure size 432x288 with 1 Axes>"
            ],
            "image/png": "[encoded data removed]"
          },
          "metadata": {}
        }
      ]
    }
  ],
  "metadata": {
    "anaconda-cloud": {},
    "kernelspec": {
      "display_name": "Python 3 (ipykernel)",
      "language": "python",
      "name": "python3"
    },
    "language_info": {
      "codemirror_mode": {
        "name": "ipython",
        "version": 3
      },
      "file_extension": ".py",
      "mimetype": "text/x-python",
      "name": "python",
      "nbconvert_exporter": "python",
      "pygments_lexer": "ipython3",
      "version": "3.7.10"
    },
    "varInspector": {
      "cols": {
        "lenName": 16,
        "lenType": 16,
        "lenVar": 40
      },
      "kernels_config": {
        "python": {
          "delete_cmd_postfix": "",
          "delete_cmd_prefix": "del ",
          "library": "var_list.py",
          "varRefreshCmd": "print(var_dic_list())"
        },
        "r": {
          "delete_cmd_postfix": ") ",
          "delete_cmd_prefix": "rm(",
          "library": "var_list.r",
          "varRefreshCmd": "cat(var_dic_list()) "
        }
      },
      "types_to_exclude": [
        "module",
        "function",
        "builtin_function_or_method",
        "instance",
        "_Feature"
      ],
      "window_display": false
    },
    "colab": {
      "provenance": []
    },
    "widgets": {
      "application/vnd.jupyter.widget-state+json": {
        "98d7fa4bd23a4025b5adabf9d5d5569c": {
          "model_module": "@jupyter-widgets/controls",
          "model_name": "HBoxModel",
          "model_module_version": "1.5.0",
          "state": {
            "_dom_classes": [],
            "_model_module": "@jupyter-widgets/controls",
            "_model_module_version": "1.5.0",
            "_model_name": "HBoxModel",
            "_view_count": null,
            "_view_module": "@jupyter-widgets/controls",
            "_view_module_version": "1.5.0",
            "_view_name": "HBoxView",
            "box_style": "",
            "children": [
              "IPY_MODEL_4414b93b83cd470f9ef88da962c36ea0",
              "IPY_MODEL_d47e41782b3f454e9a74c6fa4b171c5c",
              "IPY_MODEL_a7138c9db9af42fcb119ac97cbb72fa9"
            ],
            "layout": "IPY_MODEL_ac02bcc2c26b4239b07e6166c1b17671"
          }
        },
        "4414b93b83cd470f9ef88da962c36ea0": {
          "model_module": "@jupyter-widgets/controls",
          "model_name": "HTMLModel",
          "model_module_version": "1.5.0",
          "state": {
            "_dom_classes": [],
            "_model_module": "@jupyter-widgets/controls",
            "_model_module_version": "1.5.0",
            "_model_name": "HTMLModel",
            "_view_count": null,
            "_view_module": "@jupyter-widgets/controls",
            "_view_module_version": "1.5.0",
            "_view_name": "HTMLView",
            "description": "",
            "description_tooltip": null,
            "layout": "IPY_MODEL_7bba7fb7ca924a0cbec102fcc0b526c7",
            "placeholder": "​",
            "style": "IPY_MODEL_734ace901b5f4c38a108bcffd717adb5",
            "value": "100%"
          }
        },
        "d47e41782b3f454e9a74c6fa4b171c5c": {
          "model_module": "@jupyter-widgets/controls",
          "model_name": "FloatProgressModel",
          "model_module_version": "1.5.0",
          "state": {
            "_dom_classes": [],
            "_model_module": "@jupyter-widgets/controls",
            "_model_module_version": "1.5.0",
            "_model_name": "FloatProgressModel",
            "_view_count": null,
            "_view_module": "@jupyter-widgets/controls",
            "_view_module_version": "1.5.0",
            "_view_name": "ProgressView",
            "bar_style": "success",
            "description": "",
            "description_tooltip": null,
            "layout": "IPY_MODEL_6ea1de4da43947f99e3d0952dad77716",
            "max": 102530333,
            "min": 0,
            "orientation": "horizontal",
            "style": "IPY_MODEL_a498c0c564b743e9b9e00ea309c9a916",
            "value": 102530333
          }
        },
        "a7138c9db9af42fcb119ac97cbb72fa9": {
          "model_module": "@jupyter-widgets/controls",
          "model_name": "HTMLModel",
          "model_module_version": "1.5.0",
          "state": {
            "_dom_classes": [],
            "_model_module": "@jupyter-widgets/controls",
            "_model_module_version": "1.5.0",
            "_model_name": "HTMLModel",
            "_view_count": null,
            "_view_module": "@jupyter-widgets/controls",
            "_view_module_version": "1.5.0",
            "_view_name": "HTMLView",
            "description": "",
            "description_tooltip": null,
            "layout": "IPY_MODEL_b616aa18734847baa788955a0302355f",
            "placeholder": "​",
            "style": "IPY_MODEL_c1c31cc9075147e190a237cdfd7ce1de",
            "value": " 97.8M/97.8M [00:00&lt;00:00, 195MB/s]"
          }
        },
        "ac02bcc2c26b4239b07e6166c1b17671": {
          "model_module": "@jupyter-widgets/base",
          "model_name": "LayoutModel",
          "model_module_version": "1.2.0",
          "state": {
            "_model_module": "@jupyter-widgets/base",
            "_model_module_version": "1.2.0",
            "_model_name": "LayoutModel",
            "_view_count": null,
            "_view_module": "@jupyter-widgets/base",
            "_view_module_version": "1.2.0",
            "_view_name": "LayoutView",
            "align_content": null,
            "align_items": null,
            "align_self": null,
            "border": null,
            "bottom": null,
            "display": null,
            "flex": null,
            "flex_flow": null,
            "grid_area": null,
            "grid_auto_columns": null,
            "grid_auto_flow": null,
            "grid_auto_rows": null,
            "grid_column": null,
            "grid_gap": null,
            "grid_row": null,
            "grid_template_areas": null,
            "grid_template_columns": null,
            "grid_template_rows": null,
            "height": null,
            "justify_content": null,
            "justify_items": null,
            "left": null,
            "margin": null,
            "max_height": null,
            "max_width": null,
            "min_height": null,
            "min_width": null,
            "object_fit": null,
            "object_position": null,
            "order": null,
            "overflow": null,
            "overflow_x": null,
            "overflow_y": null,
            "padding": null,
            "right": null,
            "top": null,
            "visibility": null,
            "width": null
          }
        },
        "7bba7fb7ca924a0cbec102fcc0b526c7": {
          "model_module": "@jupyter-widgets/base",
          "model_name": "LayoutModel",
          "model_module_version": "1.2.0",
          "state": {
            "_model_module": "@jupyter-widgets/base",
            "_model_module_version": "1.2.0",
            "_model_name": "LayoutModel",
            "_view_count": null,
            "_view_module": "@jupyter-widgets/base",
            "_view_module_version": "1.2.0",
            "_view_name": "LayoutView",
            "align_content": null,
            "align_items": null,
            "align_self": null,
            "border": null,
            "bottom": null,
            "display": null,
            "flex": null,
            "flex_flow": null,
            "grid_area": null,
            "grid_auto_columns": null,
            "grid_auto_flow": null,
            "grid_auto_rows": null,
            "grid_column": null,
            "grid_gap": null,
            "grid_row": null,
            "grid_template_areas": null,
            "grid_template_columns": null,
            "grid_template_rows": null,
            "height": null,
            "justify_content": null,
            "justify_items": null,
            "left": null,
            "margin": null,
            "max_height": null,
            "max_width": null,
            "min_height": null,
            "min_width": null,
            "object_fit": null,
            "object_position": null,
            "order": null,
            "overflow": null,
            "overflow_x": null,
            "overflow_y": null,
            "padding": null,
            "right": null,
            "top": null,
            "visibility": null,
            "width": null
          }
        },
        "734ace901b5f4c38a108bcffd717adb5": {
          "model_module": "@jupyter-widgets/controls",
          "model_name": "DescriptionStyleModel",
          "model_module_version": "1.5.0",
          "state": {
            "_model_module": "@jupyter-widgets/controls",
            "_model_module_version": "1.5.0",
            "_model_name": "DescriptionStyleModel",
            "_view_count": null,
            "_view_module": "@jupyter-widgets/base",
            "_view_module_version": "1.2.0",
            "_view_name": "StyleView",
            "description_width": ""
          }
        },
        "6ea1de4da43947f99e3d0952dad77716": {
          "model_module": "@jupyter-widgets/base",
          "model_name": "LayoutModel",
          "model_module_version": "1.2.0",
          "state": {
            "_model_module": "@jupyter-widgets/base",
            "_model_module_version": "1.2.0",
            "_model_name": "LayoutModel",
            "_view_count": null,
            "_view_module": "@jupyter-widgets/base",
            "_view_module_version": "1.2.0",
            "_view_name": "LayoutView",
            "align_content": null,
            "align_items": null,
            "align_self": null,
            "border": null,
            "bottom": null,
            "display": null,
            "flex": null,
            "flex_flow": null,
            "grid_area": null,
            "grid_auto_columns": null,
            "grid_auto_flow": null,
            "grid_auto_rows": null,
            "grid_column": null,
            "grid_gap": null,
            "grid_row": null,
            "grid_template_areas": null,
            "grid_template_columns": null,
            "grid_template_rows": null,
            "height": null,
            "justify_content": null,
            "justify_items": null,
            "left": null,
            "margin": null,
            "max_height": null,
            "max_width": null,
            "min_height": null,
            "min_width": null,
            "object_fit": null,
            "object_position": null,
            "order": null,
            "overflow": null,
            "overflow_x": null,
            "overflow_y": null,
            "padding": null,
            "right": null,
            "top": null,
            "visibility": null,
            "width": null
          }
        },
        "a498c0c564b743e9b9e00ea309c9a916": {
          "model_module": "@jupyter-widgets/controls",
          "model_name": "ProgressStyleModel",
          "model_module_version": "1.5.0",
          "state": {
            "_model_module": "@jupyter-widgets/controls",
            "_model_module_version": "1.5.0",
            "_model_name": "ProgressStyleModel",
            "_view_count": null,
            "_view_module": "@jupyter-widgets/base",
            "_view_module_version": "1.2.0",
            "_view_name": "StyleView",
            "bar_color": null,
            "description_width": ""
          }
        },
        "b616aa18734847baa788955a0302355f": {
          "model_module": "@jupyter-widgets/base",
          "model_name": "LayoutModel",
          "model_module_version": "1.2.0",
          "state": {
            "_model_module": "@jupyter-widgets/base",
            "_model_module_version": "1.2.0",
            "_model_name": "LayoutModel",
            "_view_count": null,
            "_view_module": "@jupyter-widgets/base",
            "_view_module_version": "1.2.0",
            "_view_name": "LayoutView",
            "align_content": null,
            "align_items": null,
            "align_self": null,
            "border": null,
            "bottom": null,
            "display": null,
            "flex": null,
            "flex_flow": null,
            "grid_area": null,
            "grid_auto_columns": null,
            "grid_auto_flow": null,
            "grid_auto_rows": null,
            "grid_column": null,
            "grid_gap": null,
            "grid_row": null,
            "grid_template_areas": null,
            "grid_template_columns": null,
            "grid_template_rows": null,
            "height": null,
            "justify_content": null,
            "justify_items": null,
            "left": null,
            "margin": null,
            "max_height": null,
            "max_width": null,
            "min_height": null,
            "min_width": null,
            "object_fit": null,
            "object_position": null,
            "order": null,
            "overflow": null,
            "overflow_x": null,
            "overflow_y": null,
            "padding": null,
            "right": null,
            "top": null,
            "visibility": null,
            "width": null
          }
        },
        "c1c31cc9075147e190a237cdfd7ce1de": {
          "model_module": "@jupyter-widgets/controls",
          "model_name": "DescriptionStyleModel",
          "model_module_version": "1.5.0",
          "state": {
            "_model_module": "@jupyter-widgets/controls",
            "_model_module_version": "1.5.0",
            "_model_name": "DescriptionStyleModel",
            "_view_count": null,
            "_view_module": "@jupyter-widgets/base",
            "_view_module_version": "1.2.0",
            "_view_name": "StyleView",
            "description_width": ""
          }
        }
      }
    },
    "accelerator": "GPU",
    "gpuClass": "standard"
  },
  "nbformat": 4,
  "nbformat_minor": 0
}