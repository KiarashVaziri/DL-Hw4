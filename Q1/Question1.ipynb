{
  "nbformat": 4,
  "nbformat_minor": 0,
  "metadata": {
    "colab": {
      "provenance": [],
      "collapsed_sections": [
        "RTVRZu5_h6Om",
        "pxSaPGaqHfMV",
        "XbpnedUA1aWg",
        "OLOB0rSQHbe7",
        "tmgeH1iaHV3D"
      ]
    },
    "kernelspec": {
      "name": "python3",
      "display_name": "Python 3"
    },
    "accelerator": "GPU",
    "gpuClass": "standard"
  },
  "cells": [
    {
      "cell_type": "markdown",
      "source": [
        "# Question 1"
      ],
      "metadata": {
        "id": "dXTb9AVDh1ba"
      }
    },
    {
      "cell_type": "markdown",
      "source": [
        "#Packages"
      ],
      "metadata": {
        "id": "RTVRZu5_h6Om"
      }
    },
    {
      "cell_type": "code",
      "metadata": {
        "id": "nF-7m57sBgdp"
      },
      "source": [
        "from tensorflow.keras.preprocessing.sequence import pad_sequences\n",
        "import tensorflow as tf\n",
        "from tensorflow import keras\n",
        "from tensorflow.keras.layers import Embedding, LSTM, Dense, Dropout, Input, GRU\n",
        "from tensorflow.keras.preprocessing.text import Tokenizer\n",
        "from tensorflow.keras.models import Sequential, Model\n",
        "from tensorflow.keras.optimizers import Adam\n",
        "from tensorflow.keras import regularizers\n",
        "import tensorflow.keras.utils as ku \n",
        "import numpy as np\n",
        "import matplotlib.pyplot as plt\n",
        "import os"
      ],
      "execution_count": null,
      "outputs": []
    },
    {
      "cell_type": "code",
      "source": [
        "from google.colab import drive\n",
        "drive.mount('/content/drive')"
      ],
      "metadata": {
        "colab": {
          "base_uri": "https://localhost:8080/"
        },
        "id": "sIufPlsYG4IZ",
        "outputId": "2f164e5e-c2c0-4a96-876a-ac3ae1de2c98"
      },
      "execution_count": null,
      "outputs": [
        {
          "output_type": "stream",
          "name": "stdout",
          "text": [
            "Mounted at /content/drive\n"
          ]
        }
      ]
    },
    {
      "cell_type": "code",
      "source": [
        "!pwd\n",
        "%cd /content/drive/MyDrive/Colab\\ Notebooks/Deep \\Learning/Hw4/Q1"
      ],
      "metadata": {
        "colab": {
          "base_uri": "https://localhost:8080/"
        },
        "id": "j4G1vob9Gz_o",
        "outputId": "017bdee3-fb7d-41ef-b09b-639e74dc37c0"
      },
      "execution_count": null,
      "outputs": [
        {
          "output_type": "stream",
          "name": "stdout",
          "text": [
            "/content\n",
            "/content/drive/MyDrive/Colab Notebooks/Deep Learning/Hw4/Q1\n"
          ]
        }
      ]
    },
    {
      "cell_type": "markdown",
      "metadata": {
        "id": "pxSaPGaqHfMV"
      },
      "source": [
        "# Data Preprocess"
      ]
    },
    {
      "cell_type": "code",
      "metadata": {
        "id": "NNCS1WcxmTMB",
        "outputId": "4a12c705-00c0-4c71-d82f-25487b47101a",
        "colab": {
          "base_uri": "https://localhost:8080/"
        }
      },
      "source": [
        "filepath = 'ferdousi.txt'\n",
        "text = open(filepath, 'rb').read()\n",
        "text = str(text.decode('utf-8'))\n",
        "\n",
        "text = text.replace(\"\\t\",\" \\t \").replace(\"\\n\", \" \\n \")\n",
        "corpusList = [w for w in text.split(' ')] \n",
        "corpus_words = [i for i in corpusList if i]\n",
        "map(str.strip, corpus_words)\n",
        "textfile = corpus_words.pop(0)\n",
        "n_beyts = ' '.join([corpus_words.pop(0) for i in range(6)])\n",
        "print(textfile)\n",
        "print(n_beyts)"
      ],
      "execution_count": null,
      "outputs": [
        {
          "output_type": "execute_result",
          "data": {
            "text/plain": [
              "<map at 0x7f1e307f3370>"
            ]
          },
          "metadata": {},
          "execution_count": 57
        }
      ]
    },
    {
      "cell_type": "code",
      "metadata": {
        "id": "f11TwQxzmVBv",
        "outputId": "dcbadc8a-d48d-4d29-ce70-c0d5a83d84e3",
        "colab": {
          "base_uri": "https://localhost:8080/"
        }
      },
      "source": [
        "vocab = sorted(set(corpus_words))\n",
        "print('Corpus length (in words):', len(corpus_words))\n",
        "print('Unique words in corpus: {}'.format(len(vocab)))\n",
        "word2idx = {u: i for i, u in enumerate(vocab)}\n",
        "idx2words = np.array(vocab)\n",
        "word_as_int = np.array([word2idx[c] for c in corpus_words])"
      ],
      "execution_count": null,
      "outputs": [
        {
          "output_type": "stream",
          "name": "stdout",
          "text": [
            "Corpus length (in words): 667783\n",
            "Unique words in corpus: 18012\n"
          ]
        }
      ]
    },
    {
      "cell_type": "code",
      "metadata": {
        "id": "LBLvTwoNhep0"
      },
      "source": [
        "seqLength = 20\n",
        "examples_per_epoch = len(corpus_words)//(seqLength + 1)\n",
        "wordDataset = tf.data.Dataset.from_tensor_slices(word_as_int)\n",
        "sequencesOfWords = wordDataset.batch(seqLength + 1, drop_remainder=True)\n",
        "def split_input_target(chunk):\n",
        "  input_text = chunk[:-1]\n",
        "  target_text = chunk[1:]\n",
        "  return input_text, target_text\n",
        "\n",
        "dataset = sequencesOfWords.map(split_input_target)\n",
        "BATCH_SIZE = 64\n",
        "BUFFER_SIZE = 100\n",
        "dataset = dataset.shuffle(BUFFER_SIZE).batch(BATCH_SIZE, drop_remainder=True)"
      ],
      "execution_count": null,
      "outputs": []
    },
    {
      "cell_type": "code",
      "metadata": {
        "id": "KL4gEU440DyQ"
      },
      "source": [
        "def generate_text(model, start_string, temperature = 1.0):\n",
        "  num_generate = 60\n",
        "  start_string_list =  [w for w in start_string.split(' ')]\n",
        "  input_eval = [word2idx[s] for s in start_string_list]\n",
        "  input_eval = tf.expand_dims(input_eval, 0)\n",
        "  text_generated = []\n",
        "  model.reset_states()\n",
        "  for i in range(num_generate):\n",
        "      predictions = model(input_eval)\n",
        "      predictions = tf.squeeze(predictions, 0)\n",
        "      predictions = predictions / temperature\n",
        "      predicted_id = tf.random.categorical(predictions, num_samples=1)[-1,0].numpy()\n",
        "      input_eval = tf.expand_dims([predicted_id], 0)\n",
        "      text_generated.append(idx2words[predicted_id])\n",
        "  return (start_string + ' '.join(text_generated))"
      ],
      "execution_count": null,
      "outputs": []
    },
    {
      "cell_type": "markdown",
      "metadata": {
        "id": "OLOB0rSQHbe7"
      },
      "source": [
        "# Model (LSTM)"
      ]
    },
    {
      "cell_type": "code",
      "metadata": {
        "id": "47qIyVAcHdak"
      },
      "source": [
        "def create_model_lstm(vocab_size, embedding_dim, rnn_units, batch_size):\n",
        "  model = tf.keras.Sequential([\n",
        "    tf.keras.layers.Embedding(vocab_size, embedding_dim,\n",
        "                              batch_input_shape=[batch_size, None]),\n",
        "    tf.keras.layers.LSTM(rnn_units,\n",
        "                        return_sequences=True,\n",
        "                        stateful=True,\n",
        "                        recurrent_initializer='glorot_uniform'),\n",
        "    tf.keras.layers.Dense(vocab_size)\n",
        "  ])\n",
        "  return model"
      ],
      "execution_count": null,
      "outputs": []
    },
    {
      "cell_type": "code",
      "metadata": {
        "id": "73V4sMfZLT1n",
        "colab": {
          "base_uri": "https://localhost:8080/"
        },
        "outputId": "869be6d7-4f8d-4303-c917-96c2e1aa4f81"
      },
      "source": [
        "vocab_size = len(vocab)\n",
        "embedding_dim = 256\n",
        "rnn_units = 1024\n",
        "\n",
        "lstm_model = create_model_lstm(vocab_size = len(vocab), embedding_dim=embedding_dim, rnn_units=rnn_units, batch_size=BATCH_SIZE)\n",
        "lstm_model.summary()\n",
        "lstm_model.compile(optimizer='adam', loss=keras.losses.SparseCategoricalCrossentropy(from_logits=True), metrics=['accuracy'])"
      ],
      "execution_count": null,
      "outputs": [
        {
          "output_type": "stream",
          "name": "stdout",
          "text": [
            "Model: \"sequential_17\"\n",
            "_________________________________________________________________\n",
            " Layer (type)                Output Shape              Param #   \n",
            "=================================================================\n",
            " embedding_17 (Embedding)    (64, None, 256)           4611072   \n",
            "                                                                 \n",
            " lstm_19 (LSTM)              (64, None, 1024)          5246976   \n",
            "                                                                 \n",
            " dense_21 (Dense)            (64, None, 18012)         18462300  \n",
            "                                                                 \n",
            "=================================================================\n",
            "Total params: 28,320,348\n",
            "Trainable params: 28,320,348\n",
            "Non-trainable params: 0\n",
            "_________________________________________________________________\n"
          ]
        }
      ]
    },
    {
      "cell_type": "code",
      "metadata": {
        "id": "PLuzYVgrIyLv",
        "outputId": "e4705ec6-8391-43e0-cb11-dca06aef23fe",
        "colab": {
          "base_uri": "https://localhost:8080/"
        }
      },
      "source": [
        "history = lstm_model.fit(dataset, epochs=50)"
      ],
      "execution_count": null,
      "outputs": [
        {
          "output_type": "stream",
          "name": "stdout",
          "text": [
            "Epoch 1/50\n",
            "496/496 [==============================] - 39s 77ms/step - loss: 5.9839 - accuracy: 0.1787\n",
            "Epoch 2/50\n",
            "496/496 [==============================] - 38s 76ms/step - loss: 5.2989 - accuracy: 0.2170\n",
            "Epoch 3/50\n",
            "496/496 [==============================] - 38s 77ms/step - loss: 4.9251 - accuracy: 0.2407\n",
            "Epoch 4/50\n",
            "496/496 [==============================] - 38s 77ms/step - loss: 4.6400 - accuracy: 0.2571\n",
            "Epoch 5/50\n",
            "496/496 [==============================] - 38s 77ms/step - loss: 4.4056 - accuracy: 0.2704\n",
            "Epoch 6/50\n",
            "496/496 [==============================] - 38s 77ms/step - loss: 4.1959 - accuracy: 0.2823\n",
            "Epoch 7/50\n",
            "496/496 [==============================] - 38s 77ms/step - loss: 4.0134 - accuracy: 0.2938\n",
            "Epoch 8/50\n",
            "496/496 [==============================] - 38s 77ms/step - loss: 3.8532 - accuracy: 0.3069\n",
            "Epoch 9/50\n",
            "496/496 [==============================] - 38s 76ms/step - loss: 3.7134 - accuracy: 0.3198\n",
            "Epoch 10/50\n",
            "496/496 [==============================] - 38s 76ms/step - loss: 3.5870 - accuracy: 0.3330\n",
            "Epoch 11/50\n",
            "496/496 [==============================] - 38s 76ms/step - loss: 3.4757 - accuracy: 0.3455\n",
            "Epoch 12/50\n",
            "496/496 [==============================] - 38s 76ms/step - loss: 3.3723 - accuracy: 0.3578\n",
            "Epoch 13/50\n",
            "496/496 [==============================] - 38s 76ms/step - loss: 3.2774 - accuracy: 0.3692\n",
            "Epoch 14/50\n",
            "496/496 [==============================] - 38s 77ms/step - loss: 3.1903 - accuracy: 0.3800\n",
            "Epoch 15/50\n",
            "496/496 [==============================] - 38s 76ms/step - loss: 3.1071 - accuracy: 0.3915\n",
            "Epoch 16/50\n",
            "496/496 [==============================] - 38s 76ms/step - loss: 3.0297 - accuracy: 0.4024\n",
            "Epoch 17/50\n",
            "496/496 [==============================] - 38s 76ms/step - loss: 2.9541 - accuracy: 0.4140\n",
            "Epoch 18/50\n",
            "496/496 [==============================] - 38s 76ms/step - loss: 2.8827 - accuracy: 0.4249\n",
            "Epoch 19/50\n",
            "496/496 [==============================] - 38s 76ms/step - loss: 2.8143 - accuracy: 0.4362\n",
            "Epoch 20/50\n",
            "496/496 [==============================] - 38s 77ms/step - loss: 2.7501 - accuracy: 0.4465\n",
            "Epoch 21/50\n",
            "496/496 [==============================] - 38s 76ms/step - loss: 2.6876 - accuracy: 0.4571\n",
            "Epoch 22/50\n",
            "496/496 [==============================] - 38s 76ms/step - loss: 2.6246 - accuracy: 0.4681\n",
            "Epoch 23/50\n",
            "496/496 [==============================] - 38s 76ms/step - loss: 2.5663 - accuracy: 0.4784\n",
            "Epoch 24/50\n",
            "496/496 [==============================] - 38s 76ms/step - loss: 2.5083 - accuracy: 0.4888\n",
            "Epoch 25/50\n",
            "496/496 [==============================] - 38s 76ms/step - loss: 2.4576 - accuracy: 0.4978\n",
            "Epoch 26/50\n",
            "496/496 [==============================] - 38s 76ms/step - loss: 2.4080 - accuracy: 0.5073\n",
            "Epoch 27/50\n",
            "496/496 [==============================] - 38s 76ms/step - loss: 2.3606 - accuracy: 0.5162\n",
            "Epoch 28/50\n",
            "496/496 [==============================] - 38s 76ms/step - loss: 2.3171 - accuracy: 0.5243\n",
            "Epoch 29/50\n",
            "496/496 [==============================] - 38s 76ms/step - loss: 2.2732 - accuracy: 0.5321\n",
            "Epoch 30/50\n",
            "496/496 [==============================] - 38s 76ms/step - loss: 2.2337 - accuracy: 0.5396\n",
            "Epoch 31/50\n",
            "496/496 [==============================] - 38s 76ms/step - loss: 2.1920 - accuracy: 0.5478\n",
            "Epoch 32/50\n",
            "496/496 [==============================] - 38s 76ms/step - loss: 2.1460 - accuracy: 0.5578\n",
            "Epoch 33/50\n",
            "496/496 [==============================] - 38s 76ms/step - loss: 2.1047 - accuracy: 0.5659\n",
            "Epoch 34/50\n",
            "496/496 [==============================] - 38s 77ms/step - loss: 2.0627 - accuracy: 0.5745\n",
            "Epoch 35/50\n",
            "496/496 [==============================] - 38s 77ms/step - loss: 2.0290 - accuracy: 0.5813\n",
            "Epoch 36/50\n",
            "496/496 [==============================] - 38s 77ms/step - loss: 1.9919 - accuracy: 0.5888\n",
            "Epoch 37/50\n",
            "496/496 [==============================] - 38s 77ms/step - loss: 1.9609 - accuracy: 0.5951\n",
            "Epoch 38/50\n",
            "496/496 [==============================] - 38s 76ms/step - loss: 1.9247 - accuracy: 0.6030\n",
            "Epoch 39/50\n",
            "496/496 [==============================] - 38s 77ms/step - loss: 1.8932 - accuracy: 0.6097\n",
            "Epoch 40/50\n",
            "496/496 [==============================] - 38s 76ms/step - loss: 1.8649 - accuracy: 0.6153\n",
            "Epoch 41/50\n",
            "496/496 [==============================] - 38s 76ms/step - loss: 1.8347 - accuracy: 0.6222\n",
            "Epoch 42/50\n",
            "496/496 [==============================] - 38s 76ms/step - loss: 1.8059 - accuracy: 0.6280\n",
            "Epoch 43/50\n",
            "496/496 [==============================] - 38s 77ms/step - loss: 1.7769 - accuracy: 0.6344\n",
            "Epoch 44/50\n",
            "496/496 [==============================] - 38s 76ms/step - loss: 1.7495 - accuracy: 0.6407\n",
            "Epoch 45/50\n",
            "496/496 [==============================] - 38s 76ms/step - loss: 1.7172 - accuracy: 0.6480\n",
            "Epoch 46/50\n",
            "496/496 [==============================] - 38s 76ms/step - loss: 1.6854 - accuracy: 0.6553\n",
            "Epoch 47/50\n",
            "496/496 [==============================] - 38s 76ms/step - loss: 1.6627 - accuracy: 0.6601\n",
            "Epoch 48/50\n",
            "496/496 [==============================] - 38s 76ms/step - loss: 1.6372 - accuracy: 0.6664\n",
            "Epoch 49/50\n",
            "496/496 [==============================] - 38s 77ms/step - loss: 1.6076 - accuracy: 0.6723\n",
            "Epoch 50/50\n",
            "496/496 [==============================] - 38s 76ms/step - loss: 1.5843 - accuracy: 0.6788\n"
          ]
        }
      ]
    },
    {
      "cell_type": "code",
      "source": [
        "# PLOT ACCURACY AND LOSS OVER EPOCHS\n",
        "plt.figure(figsize=(15, 5))\n",
        "plt.subplot(121)\n",
        "plt.plot(history.history['accuracy'], c='green')\n",
        "plt.title('Accuracy')\n",
        "plt.xlabel('Epoch')\n",
        "plt.subplot(122)\n",
        "plt.plot(history.history['loss'], c='red')\n",
        "plt.title('Loss')\n",
        "plt.xlabel('Epoch')\n",
        "plt.show()"
      ],
      "metadata": {
        "colab": {
          "base_uri": "https://localhost:8080/",
          "height": 350
        },
        "id": "3Qz8vHWIKMWr",
        "outputId": "d1b25566-6385-4b28-b97d-efc2cc89d1c7"
      },
      "execution_count": null,
      "outputs": [
        {
          "output_type": "display_data",
          "data": {
            "text/plain": [
              "<Figure size 1080x360 with 2 Axes>"
            ],
            "image/png": "[encoded data removed]"
          },
          "metadata": {
            "needs_background": "light"
          }
        }
      ]
    },
    {
      "cell_type": "code",
      "metadata": {
        "id": "cTuSLBzTI0aV",
        "outputId": "a7914e7a-f61f-4041-a81a-ac3676dc7dd6",
        "colab": {
          "base_uri": "https://localhost:8080/"
        }
      },
      "source": [
        "main_lstm_model = create_model_lstm(vocab_size = len(vocab), embedding_dim=embedding_dim, rnn_units=rnn_units, batch_size=1)\n",
        "main_lstm_model.set_weights(lstm_model.get_weights())\n",
        "main_lstm_model.summary()"
      ],
      "execution_count": null,
      "outputs": [
        {
          "output_type": "stream",
          "name": "stdout",
          "text": [
            "Model: \"sequential_18\"\n",
            "_________________________________________________________________\n",
            " Layer (type)                Output Shape              Param #   \n",
            "=================================================================\n",
            " embedding_18 (Embedding)    (1, None, 256)            4611072   \n",
            "                                                                 \n",
            " lstm_20 (LSTM)              (1, None, 1024)           5246976   \n",
            "                                                                 \n",
            " dense_22 (Dense)            (1, None, 18012)          18462300  \n",
            "                                                                 \n",
            "=================================================================\n",
            "Total params: 28,320,348\n",
            "Trainable params: 28,320,348\n",
            "Non-trainable params: 0\n",
            "_________________________________________________________________\n"
          ]
        }
      ]
    },
    {
      "cell_type": "code",
      "metadata": {
        "id": "m6D8yNrxKO9Q",
        "colab": {
          "base_uri": "https://localhost:8080/"
        },
        "outputId": "e3fa664d-6414-444d-f4a9-9834d27ced13"
      },
      "source": [
        "main_lstm_model.save(\"lstm_model.h5\")"
      ],
      "execution_count": null,
      "outputs": [
        {
          "output_type": "stream",
          "name": "stderr",
          "text": [
            "WARNING:tensorflow:Compiled the loaded model, but the compiled metrics have yet to be built. `model.compile_metrics` will be empty until you train or evaluate the model.\n"
          ]
        }
      ]
    },
    {
      "cell_type": "markdown",
      "source": [
        "## Generative Function"
      ],
      "metadata": {
        "id": "98_4MT5MWkr0"
      }
    },
    {
      "cell_type": "code",
      "metadata": {
        "id": "_tzcVlwoq1Qg",
        "colab": {
          "base_uri": "https://localhost:8080/"
        },
        "outputId": "f59af6b5-8bcd-4bd4-f2b2-35fc4beb3ca6"
      },
      "source": [
        "main_lstm_model = tf.keras.models.load_model('lstm_model.h5')\n",
        "main_lstm_model.summary()"
      ],
      "execution_count": null,
      "outputs": [
        {
          "output_type": "stream",
          "name": "stderr",
          "text": [
            "WARNING:tensorflow:No training configuration found in the save file, so the model was *not* compiled. Compile it manually.\n"
          ]
        },
        {
          "output_type": "stream",
          "name": "stdout",
          "text": [
            "Model: \"sequential_18\"\n",
            "_________________________________________________________________\n",
            " Layer (type)                Output Shape              Param #   \n",
            "=================================================================\n",
            " embedding_18 (Embedding)    (1, None, 256)            4611072   \n",
            "                                                                 \n",
            " lstm_20 (LSTM)              (1, None, 1024)           5246976   \n",
            "                                                                 \n",
            " dense_22 (Dense)            (1, None, 18012)          18462300  \n",
            "                                                                 \n",
            "=================================================================\n",
            "Total params: 28,320,348\n",
            "Trainable params: 28,320,348\n",
            "Non-trainable params: 0\n",
            "_________________________________________________________________\n"
          ]
        }
      ]
    },
    {
      "cell_type": "code",
      "metadata": {
        "id": "dtcL1MWoI8zi",
        "outputId": "804cee82-be41-4558-dec9-165e87e25e4d",
        "colab": {
          "base_uri": "https://localhost:8080/"
        }
      },
      "source": [
        "print(generate_text(main_lstm_model, start_string=u\"که ایران چوباغیست خرم بهار\", temperature=0.5))"
      ],
      "execution_count": null,
      "outputs": [
        {
          "output_type": "stream",
          "name": "stdout",
          "text": [
            "که ایران چوباغیست خرم بهار\n",
            " که هرگز مبادا بر تاجور \n",
            " همی رفت با جامه و گوهر و سیم و بوم \n",
            " کزان بیشتر سوی ایوان به جنگ \n",
            " اگر خود بمانی و نه آیین بود \n",
            " ورا پیش بیژن بگفت این سخن \n",
            " که از رای کم بود بی نهان \n",
            " اگر تو ندانی همی این سخن \n",
            " که باید که با ما\n"
          ]
        }
      ]
    },
    {
      "cell_type": "markdown",
      "metadata": {
        "id": "tmgeH1iaHV3D"
      },
      "source": [
        "# Model (GRU)"
      ]
    },
    {
      "cell_type": "code",
      "metadata": {
        "id": "rle0H24_GGoc"
      },
      "source": [
        "def create_model_gru(vocab_size, embedding_dim, rnn_units, batch_size):\n",
        "  model = tf.keras.Sequential([\n",
        "    tf.keras.layers.Embedding(vocab_size, embedding_dim,\n",
        "                              batch_input_shape=[batch_size, None]),\n",
        "    tf.keras.layers.GRU(rnn_units,\n",
        "                        return_sequences=True,\n",
        "                        stateful=True,\n",
        "                        recurrent_initializer='glorot_uniform'),\n",
        "    tf.keras.layers.Dense(vocab_size)\n",
        "  ])\n",
        "  return model"
      ],
      "execution_count": null,
      "outputs": []
    },
    {
      "cell_type": "code",
      "metadata": {
        "id": "MM2qgJzUJ76b",
        "colab": {
          "base_uri": "https://localhost:8080/"
        },
        "outputId": "e7c93282-d75f-46c2-e0e5-430007a016c6"
      },
      "source": [
        "vocab_size = len(vocab)\n",
        "embedding_dim = 256\n",
        "rnn_units = 1024\n",
        "\n",
        "gru_model = create_model_gru(vocab_size = len(vocab), embedding_dim=embedding_dim, rnn_units=rnn_units, batch_size=BATCH_SIZE)\n",
        "\n",
        "gru_model.summary()\n",
        "\n",
        "gru_model.compile(optimizer='adam', loss=keras.losses.SparseCategoricalCrossentropy(from_logits=True), metrics=['accuracy'])"
      ],
      "execution_count": null,
      "outputs": [
        {
          "output_type": "stream",
          "name": "stdout",
          "text": [
            "Model: \"sequential_15\"\n",
            "_________________________________________________________________\n",
            " Layer (type)                Output Shape              Param #   \n",
            "=================================================================\n",
            " embedding_15 (Embedding)    (64, None, 256)           4611072   \n",
            "                                                                 \n",
            " gru_4 (GRU)                 (64, None, 1024)          3938304   \n",
            "                                                                 \n",
            " dense_19 (Dense)            (64, None, 18012)         18462300  \n",
            "                                                                 \n",
            "=================================================================\n",
            "Total params: 27,011,676\n",
            "Trainable params: 27,011,676\n",
            "Non-trainable params: 0\n",
            "_________________________________________________________________\n"
          ]
        }
      ]
    },
    {
      "cell_type": "code",
      "source": [
        "history = gru_model.fit(dataset, epochs=50)"
      ],
      "metadata": {
        "colab": {
          "base_uri": "https://localhost:8080/"
        },
        "id": "gUlrVZ408zqO",
        "outputId": "173adebc-24cd-4000-f97d-8e2ca1cbf568"
      },
      "execution_count": null,
      "outputs": [
        {
          "output_type": "stream",
          "name": "stdout",
          "text": [
            "Epoch 1/50\n",
            "496/496 [==============================] - 38s 74ms/step - loss: 5.7901 - accuracy: 0.1948\n",
            "Epoch 2/50\n",
            "496/496 [==============================] - 37s 74ms/step - loss: 4.8244 - accuracy: 0.2495\n",
            "Epoch 3/50\n",
            "496/496 [==============================] - 37s 74ms/step - loss: 4.3271 - accuracy: 0.2770\n",
            "Epoch 4/50\n",
            "496/496 [==============================] - 37s 75ms/step - loss: 3.9416 - accuracy: 0.3039\n",
            "Epoch 5/50\n",
            "496/496 [==============================] - 37s 74ms/step - loss: 3.6076 - accuracy: 0.3356\n",
            "Epoch 6/50\n",
            "496/496 [==============================] - 37s 74ms/step - loss: 3.3093 - accuracy: 0.3710\n",
            "Epoch 7/50\n",
            "496/496 [==============================] - 37s 74ms/step - loss: 3.0579 - accuracy: 0.4060\n",
            "Epoch 8/50\n",
            "496/496 [==============================] - 37s 74ms/step - loss: 2.8467 - accuracy: 0.4386\n",
            "Epoch 9/50\n",
            "496/496 [==============================] - 37s 74ms/step - loss: 2.6675 - accuracy: 0.4679\n",
            "Epoch 10/50\n",
            "496/496 [==============================] - 37s 74ms/step - loss: 2.5107 - accuracy: 0.4951\n",
            "Epoch 11/50\n",
            "496/496 [==============================] - 37s 74ms/step - loss: 2.3798 - accuracy: 0.5189\n",
            "Epoch 12/50\n",
            "496/496 [==============================] - 37s 74ms/step - loss: 2.2670 - accuracy: 0.5400\n",
            "Epoch 13/50\n",
            "496/496 [==============================] - 36s 73ms/step - loss: 2.1651 - accuracy: 0.5594\n",
            "Epoch 14/50\n",
            "496/496 [==============================] - 37s 74ms/step - loss: 2.0796 - accuracy: 0.5767\n",
            "Epoch 15/50\n",
            "496/496 [==============================] - 36s 73ms/step - loss: 2.0014 - accuracy: 0.5924\n",
            "Epoch 16/50\n",
            "496/496 [==============================] - 37s 74ms/step - loss: 1.9328 - accuracy: 0.6061\n",
            "Epoch 17/50\n",
            "496/496 [==============================] - 37s 74ms/step - loss: 1.8694 - accuracy: 0.6192\n",
            "Epoch 18/50\n",
            "496/496 [==============================] - 37s 74ms/step - loss: 1.8144 - accuracy: 0.6301\n",
            "Epoch 19/50\n",
            "496/496 [==============================] - 37s 74ms/step - loss: 1.7665 - accuracy: 0.6400\n",
            "Epoch 20/50\n",
            "496/496 [==============================] - 37s 74ms/step - loss: 1.7218 - accuracy: 0.6494\n",
            "Epoch 21/50\n",
            "496/496 [==============================] - 36s 73ms/step - loss: 1.6860 - accuracy: 0.6578\n",
            "Epoch 22/50\n",
            "496/496 [==============================] - 37s 74ms/step - loss: 1.6478 - accuracy: 0.6657\n",
            "Epoch 23/50\n",
            "496/496 [==============================] - 37s 74ms/step - loss: 1.6149 - accuracy: 0.6721\n",
            "Epoch 24/50\n",
            "496/496 [==============================] - 37s 74ms/step - loss: 1.5851 - accuracy: 0.6787\n",
            "Epoch 25/50\n",
            "496/496 [==============================] - 37s 74ms/step - loss: 1.5580 - accuracy: 0.6842\n",
            "Epoch 26/50\n",
            "496/496 [==============================] - 37s 74ms/step - loss: 1.5335 - accuracy: 0.6892\n",
            "Epoch 27/50\n",
            "496/496 [==============================] - 37s 74ms/step - loss: 1.5139 - accuracy: 0.6935\n",
            "Epoch 28/50\n",
            "496/496 [==============================] - 37s 74ms/step - loss: 1.4893 - accuracy: 0.6993\n",
            "Epoch 29/50\n",
            "496/496 [==============================] - 37s 74ms/step - loss: 1.4661 - accuracy: 0.7039\n",
            "Epoch 30/50\n",
            "496/496 [==============================] - 37s 74ms/step - loss: 1.4479 - accuracy: 0.7078\n",
            "Epoch 31/50\n",
            "496/496 [==============================] - 37s 74ms/step - loss: 1.4303 - accuracy: 0.7116\n",
            "Epoch 32/50\n",
            "496/496 [==============================] - 36s 73ms/step - loss: 1.4136 - accuracy: 0.7154\n",
            "Epoch 33/50\n",
            "496/496 [==============================] - 37s 74ms/step - loss: 1.4007 - accuracy: 0.7183\n",
            "Epoch 34/50\n",
            "496/496 [==============================] - 36s 73ms/step - loss: 1.3834 - accuracy: 0.7215\n",
            "Epoch 35/50\n",
            "496/496 [==============================] - 36s 73ms/step - loss: 1.3678 - accuracy: 0.7257\n",
            "Epoch 36/50\n",
            "496/496 [==============================] - 36s 73ms/step - loss: 1.3565 - accuracy: 0.7281\n",
            "Epoch 37/50\n",
            "496/496 [==============================] - 36s 73ms/step - loss: 1.3468 - accuracy: 0.7298\n",
            "Epoch 38/50\n",
            "496/496 [==============================] - 37s 74ms/step - loss: 1.3359 - accuracy: 0.7322\n",
            "Epoch 39/50\n",
            "496/496 [==============================] - 36s 73ms/step - loss: 1.3226 - accuracy: 0.7349\n",
            "Epoch 40/50\n",
            "496/496 [==============================] - 36s 73ms/step - loss: 1.3167 - accuracy: 0.7365\n",
            "Epoch 41/50\n",
            "496/496 [==============================] - 36s 73ms/step - loss: 1.3057 - accuracy: 0.7387\n",
            "Epoch 42/50\n",
            "496/496 [==============================] - 36s 73ms/step - loss: 1.3028 - accuracy: 0.7391\n",
            "Epoch 43/50\n",
            "496/496 [==============================] - 36s 73ms/step - loss: 1.2948 - accuracy: 0.7405\n",
            "Epoch 44/50\n",
            "496/496 [==============================] - 36s 74ms/step - loss: 1.2889 - accuracy: 0.7418\n",
            "Epoch 45/50\n",
            "496/496 [==============================] - 36s 73ms/step - loss: 1.2829 - accuracy: 0.7429\n",
            "Epoch 46/50\n",
            "496/496 [==============================] - 36s 73ms/step - loss: 1.2764 - accuracy: 0.7440\n",
            "Epoch 47/50\n",
            "496/496 [==============================] - 36s 73ms/step - loss: 1.2692 - accuracy: 0.7455\n",
            "Epoch 48/50\n",
            "496/496 [==============================] - 36s 73ms/step - loss: 1.2627 - accuracy: 0.7465\n",
            "Epoch 49/50\n",
            "496/496 [==============================] - 36s 74ms/step - loss: 1.2602 - accuracy: 0.7473\n",
            "Epoch 50/50\n",
            "496/496 [==============================] - 37s 74ms/step - loss: 1.2543 - accuracy: 0.7491\n"
          ]
        }
      ]
    },
    {
      "cell_type": "code",
      "source": [
        "# PLOT ACCURACY AND LOSS OVER EPOCHS\n",
        "plt.figure(figsize=(15, 5))\n",
        "plt.subplot(121)\n",
        "plt.plot(history.history['accuracy'], c='green')\n",
        "plt.title('Accuracy')\n",
        "plt.xlabel('Epoch')\n",
        "plt.subplot(122)\n",
        "plt.plot(history.history['loss'], c='red')\n",
        "plt.title('Loss')\n",
        "plt.xlabel('Epoch')\n",
        "plt.show()"
      ],
      "metadata": {
        "colab": {
          "base_uri": "https://localhost:8080/",
          "height": 350
        },
        "id": "0AV_PObQOlXq",
        "outputId": "c10c9706-310b-4c75-95a9-a5bd7eefec35"
      },
      "execution_count": null,
      "outputs": [
        {
          "output_type": "display_data",
          "data": {
            "text/plain": [
              "<Figure size 1080x360 with 2 Axes>"
            ],
            "image/png": "[encoded data removed]"
          },
          "metadata": {
            "needs_background": "light"
          }
        }
      ]
    },
    {
      "cell_type": "code",
      "metadata": {
        "id": "Hxs6LcdkA-qC",
        "outputId": "4417d5fd-9313-4a06-aaf8-50d2b3accfea",
        "colab": {
          "base_uri": "https://localhost:8080/"
        }
      },
      "source": [
        "main_gru_model = create_model_gru(vocab_size = len(vocab), embedding_dim=embedding_dim, rnn_units=rnn_units, batch_size=1)\n",
        "main_gru_model.set_weights(gru_model.get_weights())\n",
        "main_gru_model.summary()"
      ],
      "execution_count": null,
      "outputs": [
        {
          "output_type": "stream",
          "name": "stdout",
          "text": [
            "Model: \"sequential_16\"\n",
            "_________________________________________________________________\n",
            " Layer (type)                Output Shape              Param #   \n",
            "=================================================================\n",
            " embedding_16 (Embedding)    (1, None, 256)            4611072   \n",
            "                                                                 \n",
            " gru_5 (GRU)                 (1, None, 1024)           3938304   \n",
            "                                                                 \n",
            " dense_20 (Dense)            (1, None, 18012)          18462300  \n",
            "                                                                 \n",
            "=================================================================\n",
            "Total params: 27,011,676\n",
            "Trainable params: 27,011,676\n",
            "Non-trainable params: 0\n",
            "_________________________________________________________________\n"
          ]
        }
      ]
    },
    {
      "cell_type": "code",
      "metadata": {
        "id": "gEtcew15KI0O",
        "colab": {
          "base_uri": "https://localhost:8080/"
        },
        "outputId": "6aeb53bb-a601-412e-8933-7786965a722c"
      },
      "source": [
        "main_gru_model.save(\"gru_model.h5\")"
      ],
      "execution_count": null,
      "outputs": [
        {
          "output_type": "stream",
          "name": "stderr",
          "text": [
            "WARNING:tensorflow:Compiled the loaded model, but the compiled metrics have yet to be built. `model.compile_metrics` will be empty until you train or evaluate the model.\n"
          ]
        }
      ]
    },
    {
      "cell_type": "markdown",
      "source": [
        "## Generative Function"
      ],
      "metadata": {
        "id": "xKj1qC4OO8KV"
      }
    },
    {
      "cell_type": "code",
      "metadata": {
        "id": "iJT7mAyIqFoJ",
        "colab": {
          "base_uri": "https://localhost:8080/"
        },
        "outputId": "4fefb592-a956-4747-ef0d-4a95094bf29a"
      },
      "source": [
        "main_gru_model = tf.keras.models.load_model('gru_model.h5')\n",
        "main_gru_model.summary()"
      ],
      "execution_count": null,
      "outputs": [
        {
          "output_type": "stream",
          "name": "stderr",
          "text": [
            "WARNING:tensorflow:No training configuration found in the save file, so the model was *not* compiled. Compile it manually.\n"
          ]
        },
        {
          "output_type": "stream",
          "name": "stdout",
          "text": [
            "Model: \"sequential_16\"\n",
            "_________________________________________________________________\n",
            " Layer (type)                Output Shape              Param #   \n",
            "=================================================================\n",
            " embedding_16 (Embedding)    (1, None, 256)            4611072   \n",
            "                                                                 \n",
            " gru_5 (GRU)                 (1, None, 1024)           3938304   \n",
            "                                                                 \n",
            " dense_20 (Dense)            (1, None, 18012)          18462300  \n",
            "                                                                 \n",
            "=================================================================\n",
            "Total params: 27,011,676\n",
            "Trainable params: 27,011,676\n",
            "Non-trainable params: 0\n",
            "_________________________________________________________________\n"
          ]
        }
      ]
    },
    {
      "cell_type": "code",
      "metadata": {
        "id": "yAduGkXN0SYs",
        "outputId": "573070f1-01d0-4cec-fac5-fba8d72c7d72",
        "colab": {
          "base_uri": "https://localhost:8080/"
        }
      },
      "source": [
        "print(generate_text(main_gru_model, start_string=u\"که ایران چوباغیست خرم بهار\", temperature=1))"
      ],
      "execution_count": null,
      "outputs": [
        {
          "output_type": "stream",
          "name": "stdout",
          "text": [
            "که ایران چوباغیست خرم بهار\n",
            " فرستاد پاسخ به هر مهتری \n",
            " که ای نامور مهتر بخردان \n",
            " چنان بد که ضحاک بر دست رستم همی داشت آموختن \n",
            " زهر گونه ای روزگاری جوان \n",
            " که با ما ز بهر چنین روزگار \n",
            " به دیگر عقیق و مهان دارد و هم کمر \n",
            " دگر نان خویش بنشاندم \n",
            " چنان بد که بر ما ز پس\n"
          ]
        }
      ]
    }
  ]
}